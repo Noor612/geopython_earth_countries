{
 "cells": [
  {
   "cell_type": "markdown",
   "metadata": {},
   "source": [
    "## SPATIAL RELATIONSHIPEAND OPERATIONS"
   ]
  },
  {
   "cell_type": "code",
   "execution_count": 41,
   "metadata": {},
   "outputs": [],
   "source": [
    "import pandas as pd\n",
    "import geopandas as gp"
   ]
  },
  {
   "cell_type": "code",
   "execution_count": 42,
   "metadata": {},
   "outputs": [
    {
     "data": {
      "text/html": [
       "<div>\n",
       "<style scoped>\n",
       "    .dataframe tbody tr th:only-of-type {\n",
       "        vertical-align: middle;\n",
       "    }\n",
       "\n",
       "    .dataframe tbody tr th {\n",
       "        vertical-align: top;\n",
       "    }\n",
       "\n",
       "    .dataframe thead th {\n",
       "        text-align: right;\n",
       "    }\n",
       "</style>\n",
       "<table border=\"1\" class=\"dataframe\">\n",
       "  <thead>\n",
       "    <tr style=\"text-align: right;\">\n",
       "      <th></th>\n",
       "      <th>scalerank</th>\n",
       "      <th>featurecla</th>\n",
       "      <th>LABELRANK</th>\n",
       "      <th>SOVEREIGNT</th>\n",
       "      <th>SOV_A3</th>\n",
       "      <th>ADM0_DIF</th>\n",
       "      <th>LEVEL</th>\n",
       "      <th>TYPE</th>\n",
       "      <th>ADMIN</th>\n",
       "      <th>ADM0_A3</th>\n",
       "      <th>...</th>\n",
       "      <th>REGION_WB</th>\n",
       "      <th>NAME_LEN</th>\n",
       "      <th>LONG_LEN</th>\n",
       "      <th>ABBREV_LEN</th>\n",
       "      <th>TINY</th>\n",
       "      <th>HOMEPART</th>\n",
       "      <th>MIN_ZOOM</th>\n",
       "      <th>MIN_LABEL</th>\n",
       "      <th>MAX_LABEL</th>\n",
       "      <th>geometry</th>\n",
       "    </tr>\n",
       "  </thead>\n",
       "  <tbody>\n",
       "    <tr>\n",
       "      <th>0</th>\n",
       "      <td>1</td>\n",
       "      <td>Admin-0 country</td>\n",
       "      <td>3</td>\n",
       "      <td>Afghanistan</td>\n",
       "      <td>AFG</td>\n",
       "      <td>0</td>\n",
       "      <td>2</td>\n",
       "      <td>Sovereign country</td>\n",
       "      <td>Afghanistan</td>\n",
       "      <td>AFG</td>\n",
       "      <td>...</td>\n",
       "      <td>South Asia</td>\n",
       "      <td>11</td>\n",
       "      <td>11</td>\n",
       "      <td>4</td>\n",
       "      <td>-99</td>\n",
       "      <td>1</td>\n",
       "      <td>0.0</td>\n",
       "      <td>3.0</td>\n",
       "      <td>7.0</td>\n",
       "      <td>POLYGON ((61.21081709172574 35.65007233330923,...</td>\n",
       "    </tr>\n",
       "    <tr>\n",
       "      <th>1</th>\n",
       "      <td>1</td>\n",
       "      <td>Admin-0 country</td>\n",
       "      <td>3</td>\n",
       "      <td>Angola</td>\n",
       "      <td>AGO</td>\n",
       "      <td>0</td>\n",
       "      <td>2</td>\n",
       "      <td>Sovereign country</td>\n",
       "      <td>Angola</td>\n",
       "      <td>AGO</td>\n",
       "      <td>...</td>\n",
       "      <td>Sub-Saharan Africa</td>\n",
       "      <td>6</td>\n",
       "      <td>6</td>\n",
       "      <td>4</td>\n",
       "      <td>-99</td>\n",
       "      <td>1</td>\n",
       "      <td>0.0</td>\n",
       "      <td>3.0</td>\n",
       "      <td>7.0</td>\n",
       "      <td>(POLYGON ((23.21504845550606 -17.5231161434659...</td>\n",
       "    </tr>\n",
       "    <tr>\n",
       "      <th>2</th>\n",
       "      <td>1</td>\n",
       "      <td>Admin-0 country</td>\n",
       "      <td>6</td>\n",
       "      <td>Albania</td>\n",
       "      <td>ALB</td>\n",
       "      <td>0</td>\n",
       "      <td>2</td>\n",
       "      <td>Sovereign country</td>\n",
       "      <td>Albania</td>\n",
       "      <td>ALB</td>\n",
       "      <td>...</td>\n",
       "      <td>Europe &amp; Central Asia</td>\n",
       "      <td>7</td>\n",
       "      <td>7</td>\n",
       "      <td>4</td>\n",
       "      <td>-99</td>\n",
       "      <td>1</td>\n",
       "      <td>0.0</td>\n",
       "      <td>5.0</td>\n",
       "      <td>10.0</td>\n",
       "      <td>POLYGON ((21.0200403174764 40.84272695572588, ...</td>\n",
       "    </tr>\n",
       "    <tr>\n",
       "      <th>3</th>\n",
       "      <td>1</td>\n",
       "      <td>Admin-0 country</td>\n",
       "      <td>4</td>\n",
       "      <td>United Arab Emirates</td>\n",
       "      <td>ARE</td>\n",
       "      <td>0</td>\n",
       "      <td>2</td>\n",
       "      <td>Sovereign country</td>\n",
       "      <td>United Arab Emirates</td>\n",
       "      <td>ARE</td>\n",
       "      <td>...</td>\n",
       "      <td>Middle East &amp; North Africa</td>\n",
       "      <td>20</td>\n",
       "      <td>20</td>\n",
       "      <td>6</td>\n",
       "      <td>-99</td>\n",
       "      <td>1</td>\n",
       "      <td>0.0</td>\n",
       "      <td>4.0</td>\n",
       "      <td>9.0</td>\n",
       "      <td>POLYGON ((51.57951867046327 24.24549713795111,...</td>\n",
       "    </tr>\n",
       "    <tr>\n",
       "      <th>4</th>\n",
       "      <td>1</td>\n",
       "      <td>Admin-0 country</td>\n",
       "      <td>2</td>\n",
       "      <td>Argentina</td>\n",
       "      <td>ARG</td>\n",
       "      <td>0</td>\n",
       "      <td>2</td>\n",
       "      <td>Sovereign country</td>\n",
       "      <td>Argentina</td>\n",
       "      <td>ARG</td>\n",
       "      <td>...</td>\n",
       "      <td>Latin America &amp; Caribbean</td>\n",
       "      <td>9</td>\n",
       "      <td>9</td>\n",
       "      <td>4</td>\n",
       "      <td>-99</td>\n",
       "      <td>1</td>\n",
       "      <td>0.0</td>\n",
       "      <td>2.0</td>\n",
       "      <td>7.0</td>\n",
       "      <td>(POLYGON ((-66.95992000000001 -54.896810000000...</td>\n",
       "    </tr>\n",
       "  </tbody>\n",
       "</table>\n",
       "<p>5 rows × 72 columns</p>\n",
       "</div>"
      ],
      "text/plain": [
       "   scalerank       featurecla  LABELRANK            SOVEREIGNT SOV_A3  \\\n",
       "0          1  Admin-0 country          3           Afghanistan    AFG   \n",
       "1          1  Admin-0 country          3                Angola    AGO   \n",
       "2          1  Admin-0 country          6               Albania    ALB   \n",
       "3          1  Admin-0 country          4  United Arab Emirates    ARE   \n",
       "4          1  Admin-0 country          2             Argentina    ARG   \n",
       "\n",
       "   ADM0_DIF  LEVEL               TYPE                 ADMIN ADM0_A3  ...  \\\n",
       "0         0      2  Sovereign country           Afghanistan     AFG  ...   \n",
       "1         0      2  Sovereign country                Angola     AGO  ...   \n",
       "2         0      2  Sovereign country               Albania     ALB  ...   \n",
       "3         0      2  Sovereign country  United Arab Emirates     ARE  ...   \n",
       "4         0      2  Sovereign country             Argentina     ARG  ...   \n",
       "\n",
       "                    REGION_WB NAME_LEN LONG_LEN  ABBREV_LEN TINY HOMEPART  \\\n",
       "0                  South Asia       11       11           4  -99        1   \n",
       "1          Sub-Saharan Africa        6        6           4  -99        1   \n",
       "2       Europe & Central Asia        7        7           4  -99        1   \n",
       "3  Middle East & North Africa       20       20           6  -99        1   \n",
       "4   Latin America & Caribbean        9        9           4  -99        1   \n",
       "\n",
       "   MIN_ZOOM MIN_LABEL MAX_LABEL  \\\n",
       "0       0.0       3.0       7.0   \n",
       "1       0.0       3.0       7.0   \n",
       "2       0.0       5.0      10.0   \n",
       "3       0.0       4.0       9.0   \n",
       "4       0.0       2.0       7.0   \n",
       "\n",
       "                                            geometry  \n",
       "0  POLYGON ((61.21081709172574 35.65007233330923,...  \n",
       "1  (POLYGON ((23.21504845550606 -17.5231161434659...  \n",
       "2  POLYGON ((21.0200403174764 40.84272695572588, ...  \n",
       "3  POLYGON ((51.57951867046327 24.24549713795111,...  \n",
       "4  (POLYGON ((-66.95992000000001 -54.896810000000...  \n",
       "\n",
       "[5 rows x 72 columns]"
      ]
     },
     "execution_count": 42,
     "metadata": {},
     "output_type": "execute_result"
    }
   ],
   "source": [
    "file = gp.read_file(\"countries.json\")\n",
    "file.head()"
   ]
  },
  {
   "cell_type": "code",
   "execution_count": 43,
   "metadata": {},
   "outputs": [
    {
     "data": {
      "text/html": [
       "<div>\n",
       "<style scoped>\n",
       "    .dataframe tbody tr th:only-of-type {\n",
       "        vertical-align: middle;\n",
       "    }\n",
       "\n",
       "    .dataframe tbody tr th {\n",
       "        vertical-align: top;\n",
       "    }\n",
       "\n",
       "    .dataframe thead th {\n",
       "        text-align: right;\n",
       "    }\n",
       "</style>\n",
       "<table border=\"1\" class=\"dataframe\">\n",
       "  <thead>\n",
       "    <tr style=\"text-align: right;\">\n",
       "      <th></th>\n",
       "      <th>ISO_A3</th>\n",
       "      <th>NAME</th>\n",
       "      <th>CONTINENT</th>\n",
       "      <th>POP_EST</th>\n",
       "      <th>GDP_MD_EST</th>\n",
       "      <th>geometry</th>\n",
       "    </tr>\n",
       "  </thead>\n",
       "  <tbody>\n",
       "    <tr>\n",
       "      <th>0</th>\n",
       "      <td>AFG</td>\n",
       "      <td>Afghanistan</td>\n",
       "      <td>Asia</td>\n",
       "      <td>34124811</td>\n",
       "      <td>64080.0</td>\n",
       "      <td>POLYGON ((61.21081709172574 35.65007233330923,...</td>\n",
       "    </tr>\n",
       "    <tr>\n",
       "      <th>1</th>\n",
       "      <td>AGO</td>\n",
       "      <td>Angola</td>\n",
       "      <td>Africa</td>\n",
       "      <td>29310273</td>\n",
       "      <td>189000.0</td>\n",
       "      <td>(POLYGON ((23.21504845550606 -17.5231161434659...</td>\n",
       "    </tr>\n",
       "    <tr>\n",
       "      <th>2</th>\n",
       "      <td>ALB</td>\n",
       "      <td>Albania</td>\n",
       "      <td>Europe</td>\n",
       "      <td>3047987</td>\n",
       "      <td>33900.0</td>\n",
       "      <td>POLYGON ((21.0200403174764 40.84272695572588, ...</td>\n",
       "    </tr>\n",
       "    <tr>\n",
       "      <th>3</th>\n",
       "      <td>ARE</td>\n",
       "      <td>United Arab Emirates</td>\n",
       "      <td>Asia</td>\n",
       "      <td>6072475</td>\n",
       "      <td>667200.0</td>\n",
       "      <td>POLYGON ((51.57951867046327 24.24549713795111,...</td>\n",
       "    </tr>\n",
       "    <tr>\n",
       "      <th>4</th>\n",
       "      <td>ARG</td>\n",
       "      <td>Argentina</td>\n",
       "      <td>South America</td>\n",
       "      <td>44293293</td>\n",
       "      <td>879400.0</td>\n",
       "      <td>(POLYGON ((-66.95992000000001 -54.896810000000...</td>\n",
       "    </tr>\n",
       "  </tbody>\n",
       "</table>\n",
       "</div>"
      ],
      "text/plain": [
       "  ISO_A3                  NAME      CONTINENT   POP_EST  GDP_MD_EST  \\\n",
       "0    AFG           Afghanistan           Asia  34124811     64080.0   \n",
       "1    AGO                Angola         Africa  29310273    189000.0   \n",
       "2    ALB               Albania         Europe   3047987     33900.0   \n",
       "3    ARE  United Arab Emirates           Asia   6072475    667200.0   \n",
       "4    ARG             Argentina  South America  44293293    879400.0   \n",
       "\n",
       "                                            geometry  \n",
       "0  POLYGON ((61.21081709172574 35.65007233330923,...  \n",
       "1  (POLYGON ((23.21504845550606 -17.5231161434659...  \n",
       "2  POLYGON ((21.0200403174764 40.84272695572588, ...  \n",
       "3  POLYGON ((51.57951867046327 24.24549713795111,...  \n",
       "4  (POLYGON ((-66.95992000000001 -54.896810000000...  "
      ]
     },
     "execution_count": 43,
     "metadata": {},
     "output_type": "execute_result"
    }
   ],
   "source": [
    "countries = file[['ISO_A3','NAME','CONTINENT','POP_EST','GDP_MD_EST','geometry']]\n",
    "countries.head()"
   ]
  },
  {
   "cell_type": "code",
   "execution_count": 110,
   "metadata": {},
   "outputs": [
    {
     "data": {
      "text/plain": [
       "0                   Afghanistan\n",
       "1                        Angola\n",
       "2                       Albania\n",
       "3          United Arab Emirates\n",
       "4                     Argentina\n",
       "5                       Armenia\n",
       "6                    Antarctica\n",
       "7        Fr. S. Antarctic Lands\n",
       "8                     Australia\n",
       "9                       Austria\n",
       "10                   Azerbaijan\n",
       "11                      Burundi\n",
       "12                      Belgium\n",
       "13                        Benin\n",
       "14                 Burkina Faso\n",
       "15                   Bangladesh\n",
       "16                     Bulgaria\n",
       "17                      Bahamas\n",
       "18             Bosnia and Herz.\n",
       "19                      Belarus\n",
       "20                       Belize\n",
       "21                      Bolivia\n",
       "22                       Brazil\n",
       "23                       Brunei\n",
       "24                       Bhutan\n",
       "25                     Botswana\n",
       "26         Central African Rep.\n",
       "27                       Canada\n",
       "28                  Switzerland\n",
       "29                        Chile\n",
       "                 ...           \n",
       "147                      Serbia\n",
       "148                    Suriname\n",
       "149                    Slovakia\n",
       "150                    Slovenia\n",
       "151                      Sweden\n",
       "152                   Swaziland\n",
       "153                       Syria\n",
       "154                        Chad\n",
       "155                        Togo\n",
       "156                    Thailand\n",
       "157                  Tajikistan\n",
       "158                Turkmenistan\n",
       "159                 Timor-Leste\n",
       "160         Trinidad and Tobago\n",
       "161                     Tunisia\n",
       "162                      Turkey\n",
       "163                      Taiwan\n",
       "164                    Tanzania\n",
       "165                      Uganda\n",
       "166                     Ukraine\n",
       "167                     Uruguay\n",
       "168    United States of America\n",
       "169                  Uzbekistan\n",
       "170                   Venezuela\n",
       "171                     Vietnam\n",
       "172                     Vanuatu\n",
       "173                       Yemen\n",
       "174                South Africa\n",
       "175                      Zambia\n",
       "176                    Zimbabwe\n",
       "Name: NAME, Length: 177, dtype: object"
      ]
     },
     "execution_count": 110,
     "metadata": {},
     "output_type": "execute_result"
    }
   ],
   "source": [
    "countries.NAME"
   ]
  },
  {
   "cell_type": "code",
   "execution_count": 44,
   "metadata": {},
   "outputs": [],
   "source": [
    "Spain = countries.loc[countries.NAME == 'Spain','geometry'].squeeze()"
   ]
  },
  {
   "cell_type": "code",
   "execution_count": 45,
   "metadata": {},
   "outputs": [
    {
     "data": {
      "image/svg+xml": [
       "<svg xmlns=\"http://www.w3.org/2000/svg\" xmlns:xlink=\"http://www.w3.org/1999/xlink\" width=\"100.0\" height=\"100.0\" viewBox=\"-9.88803897952221 35.451694777969905 13.369193261772203 8.791798242222647\" preserveAspectRatio=\"xMinYMin meet\"><g transform=\"matrix(1,0,0,-1,0,79.69518779816246)\"><path fill-rule=\"evenodd\" fill=\"#66cc99\" stroke=\"#555555\" stroke-width=\"0.26738386523544405\" opacity=\"0.6\" d=\"M -9.034817674180246,41.880570583659676 L -9.392883673530648,43.0266246608127 L -7.97818966310831,43.74833771420099 L -4.3478427799557835,43.40344920508504 L -1.901351284177764,43.42280202897834 L -1.502770961910528,43.03401439063043 L 1.8267932470871244,42.343384711265685 L 2.985998976258429,42.473015041669925 L 2.0918416683121848,41.226088568683096 L 0.8105245296351882,41.01473196060934 L -0.27871131021294104,39.30997813573272 L 0.11129072429383768,38.73851430923304 L -0.6833894514905978,37.642353827457825 L -2.146452602538119,36.67414419203729 L -4.368900926114719,36.677839056946155 L -5.3771597965614575,35.946850083961465 L -6.520190802425404,36.94291331638732 L -7.453725551778092,37.09778758396607 L -6.6686055159676565,41.883386949219584 L -9.034817674180246,41.880570583659676 z\" /></g></svg>"
      ],
      "text/plain": [
       "<shapely.geometry.polygon.Polygon at 0xe76f4d85c0>"
      ]
     },
     "execution_count": 45,
     "metadata": {},
     "output_type": "execute_result"
    }
   ],
   "source": [
    "Spain #we don't need to mention .plot() here because it's already a polygon."
   ]
  },
  {
   "cell_type": "code",
   "execution_count": 46,
   "metadata": {},
   "outputs": [
    {
     "data": {
      "text/html": [
       "<div>\n",
       "<style scoped>\n",
       "    .dataframe tbody tr th:only-of-type {\n",
       "        vertical-align: middle;\n",
       "    }\n",
       "\n",
       "    .dataframe tbody tr th {\n",
       "        vertical-align: top;\n",
       "    }\n",
       "\n",
       "    .dataframe thead th {\n",
       "        text-align: right;\n",
       "    }\n",
       "</style>\n",
       "<table border=\"1\" class=\"dataframe\">\n",
       "  <thead>\n",
       "    <tr style=\"text-align: right;\">\n",
       "      <th></th>\n",
       "      <th>ObjectID</th>\n",
       "      <th>CITY_NAME</th>\n",
       "      <th>GMI_ADMIN</th>\n",
       "      <th>ADMIN_NAME</th>\n",
       "      <th>FIPS_CNTRY</th>\n",
       "      <th>CNTRY_NAME</th>\n",
       "      <th>STATUS</th>\n",
       "      <th>POP</th>\n",
       "      <th>POP_RANK</th>\n",
       "      <th>POP_CLASS</th>\n",
       "      <th>PORT_ID</th>\n",
       "      <th>LABEL_FLAG</th>\n",
       "      <th>geometry</th>\n",
       "    </tr>\n",
       "  </thead>\n",
       "  <tbody>\n",
       "    <tr>\n",
       "      <th>0</th>\n",
       "      <td>2000</td>\n",
       "      <td>Kamphaeng Phet</td>\n",
       "      <td>THA-KPH</td>\n",
       "      <td>Kamphaeng Phet</td>\n",
       "      <td>TH</td>\n",
       "      <td>Thailand</td>\n",
       "      <td>Provincial capital</td>\n",
       "      <td>58787</td>\n",
       "      <td>6</td>\n",
       "      <td>50,000 to 99,999</td>\n",
       "      <td>0</td>\n",
       "      <td>1</td>\n",
       "      <td>POINT (99.52900241178098 16.4729969705553)</td>\n",
       "    </tr>\n",
       "    <tr>\n",
       "      <th>1</th>\n",
       "      <td>2324</td>\n",
       "      <td>Cabinda</td>\n",
       "      <td>AGO-CBN</td>\n",
       "      <td>Cabinda</td>\n",
       "      <td>AO</td>\n",
       "      <td>Angola</td>\n",
       "      <td>Provincial capital</td>\n",
       "      <td>66020</td>\n",
       "      <td>6</td>\n",
       "      <td>50,000 to 99,999</td>\n",
       "      <td>46490</td>\n",
       "      <td>1</td>\n",
       "      <td>POINT (12.1899962933183 -5.556995944764289)</td>\n",
       "    </tr>\n",
       "    <tr>\n",
       "      <th>2</th>\n",
       "      <td>2001</td>\n",
       "      <td>Phichit</td>\n",
       "      <td>THA-PHC</td>\n",
       "      <td>Phichit</td>\n",
       "      <td>TH</td>\n",
       "      <td>Thailand</td>\n",
       "      <td>Provincial capital</td>\n",
       "      <td>35760</td>\n",
       "      <td>7</td>\n",
       "      <td>Less than 50,000</td>\n",
       "      <td>0</td>\n",
       "      <td>1</td>\n",
       "      <td>POINT (100.3490014126757 16.43900397924727)</td>\n",
       "    </tr>\n",
       "    <tr>\n",
       "      <th>3</th>\n",
       "      <td>2325</td>\n",
       "      <td>Onjiva</td>\n",
       "      <td>AGO-CUN</td>\n",
       "      <td>Cunene</td>\n",
       "      <td>AO</td>\n",
       "      <td>Angola</td>\n",
       "      <td>Provincial capital</td>\n",
       "      <td>10169</td>\n",
       "      <td>7</td>\n",
       "      <td>Less than 50,000</td>\n",
       "      <td>0</td>\n",
       "      <td>0</td>\n",
       "      <td>POINT (15.78330035729476 -17.04999592320635)</td>\n",
       "    </tr>\n",
       "    <tr>\n",
       "      <th>4</th>\n",
       "      <td>2432</td>\n",
       "      <td>Kimberley</td>\n",
       "      <td>ZAF-NCP</td>\n",
       "      <td>Northern Cape</td>\n",
       "      <td>SF</td>\n",
       "      <td>South Africa</td>\n",
       "      <td>Provincial capital</td>\n",
       "      <td>142089</td>\n",
       "      <td>5</td>\n",
       "      <td>100,000 to 249,999</td>\n",
       "      <td>0</td>\n",
       "      <td>0</td>\n",
       "      <td>POINT (24.83000140841427 -28.65999599278834)</td>\n",
       "    </tr>\n",
       "  </tbody>\n",
       "</table>\n",
       "</div>"
      ],
      "text/plain": [
       "   ObjectID       CITY_NAME GMI_ADMIN      ADMIN_NAME FIPS_CNTRY  \\\n",
       "0      2000  Kamphaeng Phet   THA-KPH  Kamphaeng Phet         TH   \n",
       "1      2324         Cabinda   AGO-CBN         Cabinda         AO   \n",
       "2      2001         Phichit   THA-PHC         Phichit         TH   \n",
       "3      2325          Onjiva   AGO-CUN          Cunene         AO   \n",
       "4      2432       Kimberley   ZAF-NCP   Northern Cape         SF   \n",
       "\n",
       "     CNTRY_NAME              STATUS     POP  POP_RANK           POP_CLASS  \\\n",
       "0      Thailand  Provincial capital   58787         6    50,000 to 99,999   \n",
       "1        Angola  Provincial capital   66020         6    50,000 to 99,999   \n",
       "2      Thailand  Provincial capital   35760         7    Less than 50,000   \n",
       "3        Angola  Provincial capital   10169         7    Less than 50,000   \n",
       "4  South Africa  Provincial capital  142089         5  100,000 to 249,999   \n",
       "\n",
       "   PORT_ID  LABEL_FLAG                                      geometry  \n",
       "0        0           1    POINT (99.52900241178098 16.4729969705553)  \n",
       "1    46490           1   POINT (12.1899962933183 -5.556995944764289)  \n",
       "2        0           1   POINT (100.3490014126757 16.43900397924727)  \n",
       "3        0           0  POINT (15.78330035729476 -17.04999592320635)  \n",
       "4        0           0  POINT (24.83000140841427 -28.65999599278834)  "
      ]
     },
     "execution_count": 46,
     "metadata": {},
     "output_type": "execute_result"
    }
   ],
   "source": [
    "cities = gp.read_file(\"World_Cities.json\")\n",
    "cities.head()"
   ]
  },
  {
   "cell_type": "code",
   "execution_count": 47,
   "metadata": {},
   "outputs": [],
   "source": [
    "df = cities[cities.CNTRY_NAME == 'Spain']"
   ]
  },
  {
   "cell_type": "code",
   "execution_count": 71,
   "metadata": {},
   "outputs": [
    {
     "data": {
      "text/html": [
       "<div>\n",
       "<style scoped>\n",
       "    .dataframe tbody tr th:only-of-type {\n",
       "        vertical-align: middle;\n",
       "    }\n",
       "\n",
       "    .dataframe tbody tr th {\n",
       "        vertical-align: top;\n",
       "    }\n",
       "\n",
       "    .dataframe thead th {\n",
       "        text-align: right;\n",
       "    }\n",
       "</style>\n",
       "<table border=\"1\" class=\"dataframe\">\n",
       "  <thead>\n",
       "    <tr style=\"text-align: right;\">\n",
       "      <th></th>\n",
       "      <th>ObjectID</th>\n",
       "      <th>CITY_NAME</th>\n",
       "      <th>GMI_ADMIN</th>\n",
       "      <th>ADMIN_NAME</th>\n",
       "      <th>FIPS_CNTRY</th>\n",
       "      <th>CNTRY_NAME</th>\n",
       "      <th>STATUS</th>\n",
       "      <th>POP</th>\n",
       "      <th>POP_RANK</th>\n",
       "      <th>POP_CLASS</th>\n",
       "      <th>PORT_ID</th>\n",
       "      <th>LABEL_FLAG</th>\n",
       "      <th>geometry</th>\n",
       "    </tr>\n",
       "  </thead>\n",
       "  <tbody>\n",
       "    <tr>\n",
       "      <th>819</th>\n",
       "      <td>618</td>\n",
       "      <td>Oviedo</td>\n",
       "      <td>ESP-AST</td>\n",
       "      <td>Asturias</td>\n",
       "      <td>SP</td>\n",
       "      <td>Spain</td>\n",
       "      <td>Provincial capital</td>\n",
       "      <td>211398</td>\n",
       "      <td>5</td>\n",
       "      <td>100,000 to 249,999</td>\n",
       "      <td>0</td>\n",
       "      <td>0</td>\n",
       "      <td>POINT (-5.847002689536424 43.36900196327484)</td>\n",
       "    </tr>\n",
       "    <tr>\n",
       "      <th>823</th>\n",
       "      <td>619</td>\n",
       "      <td>Santiago De Compostela</td>\n",
       "      <td>ESP-GLC</td>\n",
       "      <td>Galicia</td>\n",
       "      <td>SP</td>\n",
       "      <td>Spain</td>\n",
       "      <td>Provincial capital</td>\n",
       "      <td>92430</td>\n",
       "      <td>6</td>\n",
       "      <td>50,000 to 99,999</td>\n",
       "      <td>0</td>\n",
       "      <td>0</td>\n",
       "      <td>POINT (-8.540999709017001 42.87999593045311)</td>\n",
       "    </tr>\n",
       "    <tr>\n",
       "      <th>845</th>\n",
       "      <td>625</td>\n",
       "      <td>Santa Cruz de Tenerife</td>\n",
       "      <td>ESP-CNR</td>\n",
       "      <td>Canarias</td>\n",
       "      <td>SP</td>\n",
       "      <td>Spain</td>\n",
       "      <td>Provincial capital</td>\n",
       "      <td>222190</td>\n",
       "      <td>5</td>\n",
       "      <td>100,000 to 249,999</td>\n",
       "      <td>38160</td>\n",
       "      <td>0</td>\n",
       "      <td>POINT (-16.25000367316244 28.46670300748145)</td>\n",
       "    </tr>\n",
       "    <tr>\n",
       "      <th>847</th>\n",
       "      <td>626</td>\n",
       "      <td>Las Palmas</td>\n",
       "      <td>ESP-CNR</td>\n",
       "      <td>Canarias</td>\n",
       "      <td>SP</td>\n",
       "      <td>Spain</td>\n",
       "      <td>Other</td>\n",
       "      <td>378495</td>\n",
       "      <td>4</td>\n",
       "      <td>250,000 to 499,999</td>\n",
       "      <td>38170</td>\n",
       "      <td>0</td>\n",
       "      <td>POINT (-15.416702599302 28.1500020356225)</td>\n",
       "    </tr>\n",
       "    <tr>\n",
       "      <th>850</th>\n",
       "      <td>627</td>\n",
       "      <td>Zaragoza</td>\n",
       "      <td>ESP-ARG</td>\n",
       "      <td>Aragon</td>\n",
       "      <td>SP</td>\n",
       "      <td>Spain</td>\n",
       "      <td>Provincial capital</td>\n",
       "      <td>649404</td>\n",
       "      <td>3</td>\n",
       "      <td>500,000 to 999,999</td>\n",
       "      <td>0</td>\n",
       "      <td>0</td>\n",
       "      <td>POINT (-0.8780036772451184 41.65100092201945)</td>\n",
       "    </tr>\n",
       "  </tbody>\n",
       "</table>\n",
       "</div>"
      ],
      "text/plain": [
       "     ObjectID               CITY_NAME GMI_ADMIN ADMIN_NAME FIPS_CNTRY  \\\n",
       "819       618                  Oviedo   ESP-AST   Asturias         SP   \n",
       "823       619  Santiago De Compostela   ESP-GLC    Galicia         SP   \n",
       "845       625  Santa Cruz de Tenerife   ESP-CNR   Canarias         SP   \n",
       "847       626              Las Palmas   ESP-CNR   Canarias         SP   \n",
       "850       627                Zaragoza   ESP-ARG     Aragon         SP   \n",
       "\n",
       "    CNTRY_NAME              STATUS     POP  POP_RANK           POP_CLASS  \\\n",
       "819      Spain  Provincial capital  211398         5  100,000 to 249,999   \n",
       "823      Spain  Provincial capital   92430         6    50,000 to 99,999   \n",
       "845      Spain  Provincial capital  222190         5  100,000 to 249,999   \n",
       "847      Spain               Other  378495         4  250,000 to 499,999   \n",
       "850      Spain  Provincial capital  649404         3  500,000 to 999,999   \n",
       "\n",
       "     PORT_ID  LABEL_FLAG                                       geometry  \n",
       "819        0           0   POINT (-5.847002689536424 43.36900196327484)  \n",
       "823        0           0   POINT (-8.540999709017001 42.87999593045311)  \n",
       "845    38160           0   POINT (-16.25000367316244 28.46670300748145)  \n",
       "847    38170           0      POINT (-15.416702599302 28.1500020356225)  \n",
       "850        0           0  POINT (-0.8780036772451184 41.65100092201945)  "
      ]
     },
     "execution_count": 71,
     "metadata": {},
     "output_type": "execute_result"
    }
   ],
   "source": [
    "df.head()"
   ]
  },
  {
   "cell_type": "code",
   "execution_count": 49,
   "metadata": {},
   "outputs": [
    {
     "data": {
      "text/plain": [
       "pandas.core.series.Series"
      ]
     },
     "execution_count": 49,
     "metadata": {},
     "output_type": "execute_result"
    }
   ],
   "source": [
    "type(cities.CITY_NAME)"
   ]
  },
  {
   "cell_type": "code",
   "execution_count": 50,
   "metadata": {},
   "outputs": [],
   "source": [
    "from shapely.geometry import Point"
   ]
  },
  {
   "cell_type": "code",
   "execution_count": 51,
   "metadata": {},
   "outputs": [],
   "source": [
    "cities = gp.GeoDataFrame(cities,  geometry = 'geometry')"
   ]
  },
  {
   "cell_type": "code",
   "execution_count": 52,
   "metadata": {},
   "outputs": [
    {
     "data": {
      "text/plain": [
       "geopandas.geodataframe.GeoDataFrame"
      ]
     },
     "execution_count": 52,
     "metadata": {},
     "output_type": "execute_result"
    }
   ],
   "source": [
    "type(cities)"
   ]
  },
  {
   "cell_type": "code",
   "execution_count": 63,
   "metadata": {},
   "outputs": [],
   "source": [
    "Madrid = cities.loc[cities.CITY_NAME == 'Madrid','geometry'].squeeze()"
   ]
  },
  {
   "cell_type": "code",
   "execution_count": 64,
   "metadata": {},
   "outputs": [
    {
     "data": {
      "image/svg+xml": [
       "<svg xmlns=\"http://www.w3.org/2000/svg\" xmlns:xlink=\"http://www.w3.org/1999/xlink\" width=\"100.0\" height=\"100.0\" viewBox=\"-4.690971698244965 39.442220073506434 2.0 2.0\" preserveAspectRatio=\"xMinYMin meet\"><g transform=\"matrix(1,0,0,-1,0,80.88444014701287)\"><circle cx=\"-3.690971698244965\" cy=\"40.442220073506434\" r=\"0.06\" stroke=\"#555555\" stroke-width=\"0.02\" fill=\"#66cc99\" opacity=\"0.6\" /></g></svg>"
      ],
      "text/plain": [
       "<shapely.geometry.point.Point at 0xe76f933da0>"
      ]
     },
     "execution_count": 64,
     "metadata": {},
     "output_type": "execute_result"
    }
   ],
   "source": [
    "Madrid"
   ]
  },
  {
   "cell_type": "code",
   "execution_count": 65,
   "metadata": {},
   "outputs": [],
   "source": [
    "Las_Palmas = cities.loc[cities.CITY_NAME == 'Las Palmas','geometry'].squeeze()"
   ]
  },
  {
   "cell_type": "code",
   "execution_count": 66,
   "metadata": {},
   "outputs": [
    {
     "data": {
      "image/svg+xml": [
       "<svg xmlns=\"http://www.w3.org/2000/svg\" xmlns:xlink=\"http://www.w3.org/1999/xlink\" width=\"100.0\" height=\"100.0\" viewBox=\"-16.416702599302 27.150002035622503 2.0 2.0\" preserveAspectRatio=\"xMinYMin meet\"><g transform=\"matrix(1,0,0,-1,0,56.300004071245006)\"><circle cx=\"-15.416702599301999\" cy=\"28.150002035622503\" r=\"0.06\" stroke=\"#555555\" stroke-width=\"0.02\" fill=\"#66cc99\" opacity=\"0.6\" /></g></svg>"
      ],
      "text/plain": [
       "<shapely.geometry.point.Point at 0xe76f922160>"
      ]
     },
     "execution_count": 66,
     "metadata": {},
     "output_type": "execute_result"
    }
   ],
   "source": [
    "Las_Palmas"
   ]
  },
  {
   "cell_type": "markdown",
   "metadata": {},
   "source": [
    "So, we have got 2 points Barcelona and Las Palmas, let's add a linestring"
   ]
  },
  {
   "cell_type": "code",
   "execution_count": 67,
   "metadata": {},
   "outputs": [],
   "source": [
    "from shapely.geometry import LineString"
   ]
  },
  {
   "cell_type": "code",
   "execution_count": 69,
   "metadata": {},
   "outputs": [],
   "source": [
    "ml = LineString([Madrid,Las_Palmas])"
   ]
  },
  {
   "cell_type": "code",
   "execution_count": 70,
   "metadata": {},
   "outputs": [
    {
     "data": {
      "image/svg+xml": [
       "<svg xmlns=\"http://www.w3.org/2000/svg\" xmlns:xlink=\"http://www.w3.org/1999/xlink\" width=\"100.0\" height=\"100.0\" viewBox=\"-15.908391320817357 27.658313314107147 12.709108344087749 13.275595480914646\" preserveAspectRatio=\"xMinYMin meet\"><g transform=\"matrix(1,0,0,-1,0,68.59222210912894)\"><polyline fill=\"none\" stroke=\"#66cc99\" stroke-width=\"0.2655119096182929\" points=\"-3.690971698244965,40.442220073506434 -15.416702599301999,28.150002035622503\" opacity=\"0.8\" /></g></svg>"
      ],
      "text/plain": [
       "<shapely.geometry.linestring.LineString at 0xe76f443be0>"
      ]
     },
     "execution_count": 70,
     "metadata": {},
     "output_type": "execute_result"
    }
   ],
   "source": [
    "ml"
   ]
  },
  {
   "cell_type": "code",
   "execution_count": 85,
   "metadata": {},
   "outputs": [
    {
     "data": {
      "text/plain": [
       "<matplotlib.axes._subplots.AxesSubplot at 0xe76ee589e8>"
      ]
     },
     "execution_count": 85,
     "metadata": {},
     "output_type": "execute_result"
    },
    {
     "data": {
      "image/png": "[encoded data removed]",
      "text/plain": [
       "<Figure size 432x288 with 1 Axes>"
      ]
     },
     "metadata": {
      "needs_background": "light"
     },
     "output_type": "display_data"
    }
   ],
   "source": [
    "gp.GeoSeries([Spain, Madrid, Las_Palmas, ml]).plot(cmap='jet')"
   ]
  },
  {
   "cell_type": "code",
   "execution_count": 86,
   "metadata": {},
   "outputs": [],
   "source": [
    "France = countries.loc[countries.NAME == 'France','geometry'].squeeze()"
   ]
  },
  {
   "cell_type": "code",
   "execution_count": 87,
   "metadata": {},
   "outputs": [
    {
     "data": {
      "image/svg+xml": [
       "<svg xmlns=\"http://www.w3.org/2000/svg\" xmlns:xlink=\"http://www.w3.org/1999/xlink\" width=\"100.0\" height=\"100.0\" viewBox=\"-57.0297155096587 -0.38010361898334244 67.63395542019242 54.033571102104204\" preserveAspectRatio=\"xMinYMin meet\"><g transform=\"matrix(1,0,0,-1,0,53.27336386413752)\"><g><path fill-rule=\"evenodd\" fill=\"#66cc99\" stroke=\"#555555\" stroke-width=\"1.3526791084038485\" opacity=\"0.6\" d=\"M 2.5135730322461143,51.148506171261886 L 4.2860229834250845,49.907496649772554 L 5.674051954784829,49.529483547557504 L 6.186320428094177,49.463802802114515 L 8.099278598674744,49.0177835150034 L 7.466759067422231,47.62058197691181 L 6.037388950229001,46.725778713561866 L 6.843592970414505,45.99114655210061 L 7.435184767291901,43.69384491634921 L 6.529245232783097,43.1288923203183 L 4.556962517931453,43.39965098731162 L 2.985998976258429,42.473015041669925 L 1.8267932470871244,42.343384711265685 L -1.502770961910528,43.03401439063043 L -1.901351284177764,43.42280202897834 L -1.3842252262329282,44.022610378590116 L -1.1937975732374184,46.014917710954904 L -2.963276129559546,47.57032664650799 L -4.491554938159453,47.95495433205636 L -3.295813971357802,48.901692409859635 L -1.616510789384904,48.64442129169453 L -0.9894689599553033,49.347375800160904 L 1.3387610205226963,50.12717316344529 L 2.5135730322461143,51.148506171261886 z\" /><path fill-rule=\"evenodd\" fill=\"#66cc99\" stroke=\"#555555\" stroke-width=\"1.3526791084038485\" opacity=\"0.6\" d=\"M -51.65779741067889,4.156232408053029 L -52.939657151894956,2.1248576928756364 L -54.52475419779972,2.3118488631238137 L -54.01150387227679,3.622569891774873 L -54.478632981979274,4.896755682795572 L -53.9580446030709,5.756548163267765 L -52.88214128275405,5.409850979021627 L -51.65779741067889,4.156232408053029 z\" /></g></g></svg>"
      ],
      "text/plain": [
       "<shapely.geometry.multipolygon.MultiPolygon at 0xe76f4369b0>"
      ]
     },
     "execution_count": 87,
     "metadata": {},
     "output_type": "execute_result"
    }
   ],
   "source": [
    "France"
   ]
  },
  {
   "cell_type": "code",
   "execution_count": 88,
   "metadata": {},
   "outputs": [],
   "source": [
    "Paris = cities.loc[cities.CITY_NAME == 'Paris','geometry'].squeeze()"
   ]
  },
  {
   "cell_type": "code",
   "execution_count": 89,
   "metadata": {},
   "outputs": [
    {
     "data": {
      "image/svg+xml": [
       "<svg xmlns=\"http://www.w3.org/2000/svg\" xmlns:xlink=\"http://www.w3.org/1999/xlink\" width=\"100.0\" height=\"100.0\" viewBox=\"1.4329973446941153 47.88199706280749 2.0 2.0\" preserveAspectRatio=\"xMinYMin meet\"><g transform=\"matrix(1,0,0,-1,0,97.76399412561499)\"><circle cx=\"2.4329973446941153\" cy=\"48.88199706280749\" r=\"0.06\" stroke=\"#555555\" stroke-width=\"0.02\" fill=\"#66cc99\" opacity=\"0.6\" /></g></svg>"
      ],
      "text/plain": [
       "<shapely.geometry.point.Point at 0xe76fa3da58>"
      ]
     },
     "execution_count": 89,
     "metadata": {},
     "output_type": "execute_result"
    }
   ],
   "source": [
    "Paris"
   ]
  },
  {
   "cell_type": "code",
   "execution_count": 90,
   "metadata": {},
   "outputs": [],
   "source": [
    "mp = LineString([Madrid, Paris])"
   ]
  },
  {
   "cell_type": "code",
   "execution_count": 92,
   "metadata": {},
   "outputs": [
    {
     "data": {
      "image/svg+xml": [
       "<svg xmlns=\"http://www.w3.org/2000/svg\" xmlns:xlink=\"http://www.w3.org/1999/xlink\" width=\"100.0\" height=\"100.0\" viewBox=\"-4.028562777817007 40.10462899393439 6.799151202083165 9.114959148445145\" preserveAspectRatio=\"xMinYMin meet\"><g transform=\"matrix(1,0,0,-1,0,89.32421713631393)\"><polyline fill=\"none\" stroke=\"#66cc99\" stroke-width=\"0.1822991829689029\" points=\"-3.690971698244965,40.442220073506434 2.4329973446941153,48.88199706280749\" opacity=\"0.8\" /></g></svg>"
      ],
      "text/plain": [
       "<shapely.geometry.linestring.LineString at 0xe76ee51b38>"
      ]
     },
     "execution_count": 92,
     "metadata": {},
     "output_type": "execute_result"
    }
   ],
   "source": [
    "mp"
   ]
  },
  {
   "cell_type": "code",
   "execution_count": 94,
   "metadata": {},
   "outputs": [
    {
     "data": {
      "text/plain": [
       "<matplotlib.axes._subplots.AxesSubplot at 0xe76ee522b0>"
      ]
     },
     "execution_count": 94,
     "metadata": {},
     "output_type": "execute_result"
    },
    {
     "data": {
      "image/png": "[encoded data removed]",
      "text/plain": [
       "<Figure size 432x288 with 1 Axes>"
      ]
     },
     "metadata": {
      "needs_background": "light"
     },
     "output_type": "display_data"
    }
   ],
   "source": [
    "gp.GeoSeries([Spain, France, Madrid, Paris, mp]).plot(cmap='jet')"
   ]
  },
  {
   "cell_type": "code",
   "execution_count": 95,
   "metadata": {},
   "outputs": [
    {
     "data": {
      "text/plain": [
       "False"
      ]
     },
     "execution_count": 95,
     "metadata": {},
     "output_type": "execute_result"
    }
   ],
   "source": [
    "Spain.within(France)"
   ]
  },
  {
   "cell_type": "code",
   "execution_count": 96,
   "metadata": {},
   "outputs": [
    {
     "data": {
      "text/plain": [
       "True"
      ]
     },
     "execution_count": 96,
     "metadata": {},
     "output_type": "execute_result"
    }
   ],
   "source": [
    "Paris.within(Paris)"
   ]
  },
  {
   "cell_type": "code",
   "execution_count": 97,
   "metadata": {},
   "outputs": [
    {
     "data": {
      "text/plain": [
       "True"
      ]
     },
     "execution_count": 97,
     "metadata": {},
     "output_type": "execute_result"
    }
   ],
   "source": [
    "Paris.within(France)"
   ]
  },
  {
   "cell_type": "code",
   "execution_count": 101,
   "metadata": {},
   "outputs": [
    {
     "data": {
      "text/plain": [
       "False"
      ]
     },
     "execution_count": 101,
     "metadata": {},
     "output_type": "execute_result"
    }
   ],
   "source": [
    "Paris.contains(mp)"
   ]
  },
  {
   "cell_type": "code",
   "execution_count": 102,
   "metadata": {},
   "outputs": [
    {
     "data": {
      "text/plain": [
       "True"
      ]
     },
     "execution_count": 102,
     "metadata": {},
     "output_type": "execute_result"
    }
   ],
   "source": [
    "mp.intersects(France)"
   ]
  },
  {
   "cell_type": "code",
   "execution_count": 103,
   "metadata": {},
   "outputs": [],
   "source": [
    "rivers = gp.read_file(\"rivers_lake.json\")"
   ]
  },
  {
   "cell_type": "code",
   "execution_count": 104,
   "metadata": {},
   "outputs": [
    {
     "data": {
      "text/html": [
       "<div>\n",
       "<style scoped>\n",
       "    .dataframe tbody tr th:only-of-type {\n",
       "        vertical-align: middle;\n",
       "    }\n",
       "\n",
       "    .dataframe tbody tr th {\n",
       "        vertical-align: top;\n",
       "    }\n",
       "\n",
       "    .dataframe thead th {\n",
       "        text-align: right;\n",
       "    }\n",
       "</style>\n",
       "<table border=\"1\" class=\"dataframe\">\n",
       "  <thead>\n",
       "    <tr style=\"text-align: right;\">\n",
       "      <th></th>\n",
       "      <th>scalerank</th>\n",
       "      <th>featurecla</th>\n",
       "      <th>name</th>\n",
       "      <th>name_alt</th>\n",
       "      <th>min_zoom</th>\n",
       "      <th>name_en</th>\n",
       "      <th>min_label</th>\n",
       "      <th>wikidataid</th>\n",
       "      <th>label</th>\n",
       "      <th>name_ar</th>\n",
       "      <th>...</th>\n",
       "      <th>name_pl</th>\n",
       "      <th>name_pt</th>\n",
       "      <th>name_ru</th>\n",
       "      <th>name_sv</th>\n",
       "      <th>name_tr</th>\n",
       "      <th>name_vi</th>\n",
       "      <th>name_zh</th>\n",
       "      <th>wdid_score</th>\n",
       "      <th>ne_id</th>\n",
       "      <th>geometry</th>\n",
       "    </tr>\n",
       "  </thead>\n",
       "  <tbody>\n",
       "    <tr>\n",
       "      <th>0</th>\n",
       "      <td>2</td>\n",
       "      <td>River</td>\n",
       "      <td>Brahmaputra</td>\n",
       "      <td></td>\n",
       "      <td>2.1</td>\n",
       "      <td>Brahmaputra</td>\n",
       "      <td>3.1</td>\n",
       "      <td>Q45403</td>\n",
       "      <td>Brahmaputra</td>\n",
       "      <td>نهر براهمابوترا</td>\n",
       "      <td>...</td>\n",
       "      <td>Brahmaputra</td>\n",
       "      <td>Rio Bramaputra</td>\n",
       "      <td>Брахмапутра</td>\n",
       "      <td>Brahmaputra</td>\n",
       "      <td>Brahmaputra Nehri</td>\n",
       "      <td>Brahmaputra</td>\n",
       "      <td>布拉马普特拉河</td>\n",
       "      <td>4</td>\n",
       "      <td>1159120261</td>\n",
       "      <td>LINESTRING (82.40047977084697 30.4114773625851...</td>\n",
       "    </tr>\n",
       "    <tr>\n",
       "      <th>1</th>\n",
       "      <td>2</td>\n",
       "      <td>River</td>\n",
       "      <td>Mekong</td>\n",
       "      <td></td>\n",
       "      <td>2.1</td>\n",
       "      <td>Mekong</td>\n",
       "      <td>3.1</td>\n",
       "      <td>Q41179</td>\n",
       "      <td>Mekong</td>\n",
       "      <td>نهر ميكونغ</td>\n",
       "      <td>...</td>\n",
       "      <td>Mekong</td>\n",
       "      <td>Rio Mekong</td>\n",
       "      <td>Меконг</td>\n",
       "      <td>Mekong</td>\n",
       "      <td>Mekong</td>\n",
       "      <td>Mê Kông</td>\n",
       "      <td>湄公河</td>\n",
       "      <td>4</td>\n",
       "      <td>1159121023</td>\n",
       "      <td>LINESTRING (94.08400434771664 33.1558576523096...</td>\n",
       "    </tr>\n",
       "    <tr>\n",
       "      <th>2</th>\n",
       "      <td>2</td>\n",
       "      <td>River</td>\n",
       "      <td>Ob</td>\n",
       "      <td></td>\n",
       "      <td>2.1</td>\n",
       "      <td>Ob</td>\n",
       "      <td>3.1</td>\n",
       "      <td>Q973</td>\n",
       "      <td>Ob</td>\n",
       "      <td>أوبي</td>\n",
       "      <td>...</td>\n",
       "      <td>Ob</td>\n",
       "      <td>Rio Ob</td>\n",
       "      <td>Обь</td>\n",
       "      <td>Ob</td>\n",
       "      <td>Obi Nehri</td>\n",
       "      <td>Sông Obi</td>\n",
       "      <td>鄂畢河</td>\n",
       "      <td>4</td>\n",
       "      <td>1159114911</td>\n",
       "      <td>LINESTRING (90.32537072139951 47.6501667343988...</td>\n",
       "    </tr>\n",
       "    <tr>\n",
       "      <th>3</th>\n",
       "      <td>2</td>\n",
       "      <td>River</td>\n",
       "      <td>Peace</td>\n",
       "      <td></td>\n",
       "      <td>2.1</td>\n",
       "      <td>Peace</td>\n",
       "      <td>3.1</td>\n",
       "      <td>Q2220</td>\n",
       "      <td>Peace</td>\n",
       "      <td></td>\n",
       "      <td>...</td>\n",
       "      <td>Peace</td>\n",
       "      <td>Rio Peace</td>\n",
       "      <td>Пис</td>\n",
       "      <td>Peace</td>\n",
       "      <td></td>\n",
       "      <td></td>\n",
       "      <td>皮斯河</td>\n",
       "      <td>4</td>\n",
       "      <td>1159117465</td>\n",
       "      <td>LINESTRING (-124.8356304594742 56.756923529682...</td>\n",
       "    </tr>\n",
       "    <tr>\n",
       "      <th>4</th>\n",
       "      <td>2</td>\n",
       "      <td>River</td>\n",
       "      <td>Donau</td>\n",
       "      <td>Danube</td>\n",
       "      <td>2.1</td>\n",
       "      <td>Danube</td>\n",
       "      <td>3.1</td>\n",
       "      <td>Q1653</td>\n",
       "      <td>Donau</td>\n",
       "      <td>دانوب</td>\n",
       "      <td>...</td>\n",
       "      <td>Dunaj</td>\n",
       "      <td>Rio Danúbio</td>\n",
       "      <td>Дунай</td>\n",
       "      <td>Donau</td>\n",
       "      <td>Tuna</td>\n",
       "      <td>Sông Donau</td>\n",
       "      <td>多瑙河</td>\n",
       "      <td>4</td>\n",
       "      <td>1159118769</td>\n",
       "      <td>LINESTRING (8.219788038779399 48.0468091904551...</td>\n",
       "    </tr>\n",
       "  </tbody>\n",
       "</table>\n",
       "<p>5 rows × 32 columns</p>\n",
       "</div>"
      ],
      "text/plain": [
       "   scalerank featurecla         name name_alt  min_zoom      name_en  \\\n",
       "0          2      River  Brahmaputra                2.1  Brahmaputra   \n",
       "1          2      River       Mekong                2.1       Mekong   \n",
       "2          2      River           Ob                2.1           Ob   \n",
       "3          2      River        Peace                2.1        Peace   \n",
       "4          2      River        Donau   Danube       2.1       Danube   \n",
       "\n",
       "   min_label wikidataid        label          name_ar  ...      name_pl  \\\n",
       "0        3.1     Q45403  Brahmaputra  نهر براهمابوترا  ...  Brahmaputra   \n",
       "1        3.1     Q41179       Mekong       نهر ميكونغ  ...       Mekong   \n",
       "2        3.1       Q973           Ob             أوبي  ...           Ob   \n",
       "3        3.1      Q2220        Peace                   ...        Peace   \n",
       "4        3.1      Q1653        Donau            دانوب  ...        Dunaj   \n",
       "\n",
       "          name_pt      name_ru      name_sv            name_tr      name_vi  \\\n",
       "0  Rio Bramaputra  Брахмапутра  Brahmaputra  Brahmaputra Nehri  Brahmaputra   \n",
       "1      Rio Mekong       Меконг       Mekong             Mekong      Mê Kông   \n",
       "2          Rio Ob          Обь           Ob          Obi Nehri     Sông Obi   \n",
       "3       Rio Peace          Пис        Peace                                   \n",
       "4     Rio Danúbio        Дунай        Donau               Tuna   Sông Donau   \n",
       "\n",
       "   name_zh wdid_score       ne_id  \\\n",
       "0  布拉马普特拉河          4  1159120261   \n",
       "1      湄公河          4  1159121023   \n",
       "2      鄂畢河          4  1159114911   \n",
       "3      皮斯河          4  1159117465   \n",
       "4      多瑙河          4  1159118769   \n",
       "\n",
       "                                            geometry  \n",
       "0  LINESTRING (82.40047977084697 30.4114773625851...  \n",
       "1  LINESTRING (94.08400434771664 33.1558576523096...  \n",
       "2  LINESTRING (90.32537072139951 47.6501667343988...  \n",
       "3  LINESTRING (-124.8356304594742 56.756923529682...  \n",
       "4  LINESTRING (8.219788038779399 48.0468091904551...  \n",
       "\n",
       "[5 rows x 32 columns]"
      ]
     },
     "execution_count": 104,
     "metadata": {},
     "output_type": "execute_result"
    }
   ],
   "source": [
    "rivers.head()"
   ]
  },
  {
   "cell_type": "code",
   "execution_count": 105,
   "metadata": {},
   "outputs": [
    {
     "data": {
      "text/plain": [
       "0     Brahmaputra\n",
       "1          Mekong\n",
       "2              Ob\n",
       "3           Peace\n",
       "4           Donau\n",
       "5          Paraná\n",
       "6           Congo\n",
       "7            Lena\n",
       "8           Chang\n",
       "9            Nile\n",
       "10       Amazonas\n",
       "11    Mississippi\n",
       "12        Yangtze\n",
       "Name: name, dtype: object"
      ]
     },
     "execution_count": 105,
     "metadata": {},
     "output_type": "execute_result"
    }
   ],
   "source": [
    "rivers.name"
   ]
  },
  {
   "cell_type": "code",
   "execution_count": 108,
   "metadata": {},
   "outputs": [],
   "source": [
    "amazon = rivers[rivers.name == 'Amazonas'].geometry.squeeze()"
   ]
  },
  {
   "cell_type": "code",
   "execution_count": 109,
   "metadata": {},
   "outputs": [
    {
     "data": {
      "text/html": [
       "<div>\n",
       "<style scoped>\n",
       "    .dataframe tbody tr th:only-of-type {\n",
       "        vertical-align: middle;\n",
       "    }\n",
       "\n",
       "    .dataframe tbody tr th {\n",
       "        vertical-align: top;\n",
       "    }\n",
       "\n",
       "    .dataframe thead th {\n",
       "        text-align: right;\n",
       "    }\n",
       "</style>\n",
       "<table border=\"1\" class=\"dataframe\">\n",
       "  <thead>\n",
       "    <tr style=\"text-align: right;\">\n",
       "      <th></th>\n",
       "      <th>ISO_A3</th>\n",
       "      <th>NAME</th>\n",
       "      <th>CONTINENT</th>\n",
       "      <th>POP_EST</th>\n",
       "      <th>GDP_MD_EST</th>\n",
       "      <th>geometry</th>\n",
       "    </tr>\n",
       "  </thead>\n",
       "  <tbody>\n",
       "    <tr>\n",
       "      <th>22</th>\n",
       "      <td>BRA</td>\n",
       "      <td>Brazil</td>\n",
       "      <td>South America</td>\n",
       "      <td>207353391</td>\n",
       "      <td>3081000.0</td>\n",
       "      <td>POLYGON ((-57.625133429583 -30.21629485445423,...</td>\n",
       "    </tr>\n",
       "    <tr>\n",
       "      <th>35</th>\n",
       "      <td>COL</td>\n",
       "      <td>Colombia</td>\n",
       "      <td>South America</td>\n",
       "      <td>47698524</td>\n",
       "      <td>688000.0</td>\n",
       "      <td>POLYGON ((-66.87632585312258 1.253360500489336...</td>\n",
       "    </tr>\n",
       "    <tr>\n",
       "      <th>124</th>\n",
       "      <td>PER</td>\n",
       "      <td>Peru</td>\n",
       "      <td>South America</td>\n",
       "      <td>31036656</td>\n",
       "      <td>410400.0</td>\n",
       "      <td>POLYGON ((-69.52967810736496 -10.9517343075021...</td>\n",
       "    </tr>\n",
       "  </tbody>\n",
       "</table>\n",
       "</div>"
      ],
      "text/plain": [
       "    ISO_A3      NAME      CONTINENT    POP_EST  GDP_MD_EST  \\\n",
       "22     BRA    Brazil  South America  207353391   3081000.0   \n",
       "35     COL  Colombia  South America   47698524    688000.0   \n",
       "124    PER      Peru  South America   31036656    410400.0   \n",
       "\n",
       "                                              geometry  \n",
       "22   POLYGON ((-57.625133429583 -30.21629485445423,...  \n",
       "35   POLYGON ((-66.87632585312258 1.253360500489336...  \n",
       "124  POLYGON ((-69.52967810736496 -10.9517343075021...  "
      ]
     },
     "execution_count": 109,
     "metadata": {},
     "output_type": "execute_result"
    }
   ],
   "source": [
    "countries[countries.crosses(amazon)]"
   ]
  },
  {
   "cell_type": "code",
   "execution_count": 112,
   "metadata": {},
   "outputs": [
    {
     "data": {
      "text/html": [
       "<div>\n",
       "<style scoped>\n",
       "    .dataframe tbody tr th:only-of-type {\n",
       "        vertical-align: middle;\n",
       "    }\n",
       "\n",
       "    .dataframe tbody tr th {\n",
       "        vertical-align: top;\n",
       "    }\n",
       "\n",
       "    .dataframe thead th {\n",
       "        text-align: right;\n",
       "    }\n",
       "</style>\n",
       "<table border=\"1\" class=\"dataframe\">\n",
       "  <thead>\n",
       "    <tr style=\"text-align: right;\">\n",
       "      <th></th>\n",
       "      <th>ISO_A3</th>\n",
       "      <th>NAME</th>\n",
       "      <th>CONTINENT</th>\n",
       "      <th>POP_EST</th>\n",
       "      <th>GDP_MD_EST</th>\n",
       "      <th>geometry</th>\n",
       "    </tr>\n",
       "  </thead>\n",
       "  <tbody>\n",
       "    <tr>\n",
       "      <th>55</th>\n",
       "      <td>-99</td>\n",
       "      <td>France</td>\n",
       "      <td>Europe</td>\n",
       "      <td>67106161</td>\n",
       "      <td>2699000.0</td>\n",
       "      <td>(POLYGON ((2.513573032246114 51.14850617126189...</td>\n",
       "    </tr>\n",
       "    <tr>\n",
       "      <th>130</th>\n",
       "      <td>PRT</td>\n",
       "      <td>Portugal</td>\n",
       "      <td>Europe</td>\n",
       "      <td>10839514</td>\n",
       "      <td>297100.0</td>\n",
       "      <td>POLYGON ((-9.034817674180246 41.88057058365968...</td>\n",
       "    </tr>\n",
       "  </tbody>\n",
       "</table>\n",
       "</div>"
      ],
      "text/plain": [
       "    ISO_A3      NAME CONTINENT   POP_EST  GDP_MD_EST  \\\n",
       "55     -99    France    Europe  67106161   2699000.0   \n",
       "130    PRT  Portugal    Europe  10839514    297100.0   \n",
       "\n",
       "                                              geometry  \n",
       "55   (POLYGON ((2.513573032246114 51.14850617126189...  \n",
       "130  POLYGON ((-9.034817674180246 41.88057058365968...  "
      ]
     },
     "execution_count": 112,
     "metadata": {},
     "output_type": "execute_result"
    }
   ],
   "source": [
    "sp = countries.query('NAME == \"Spain\"')['geometry'].squeeze()\n",
    "countries[countries.touches(sp)]"
   ]
  },
  {
   "cell_type": "markdown",
   "metadata": {},
   "source": [
    "### SPATIAL OPERAIONS"
   ]
  },
  {
   "cell_type": "code",
   "execution_count": 125,
   "metadata": {},
   "outputs": [
    {
     "data": {
      "text/plain": [
       "<matplotlib.axes._subplots.AxesSubplot at 0xe76ed8b898>"
      ]
     },
     "execution_count": 125,
     "metadata": {},
     "output_type": "execute_result"
    },
    {
     "data": {
      "image/png": "[encoded data removed]",
      "text/plain": [
       "<Figure size 432x288 with 1 Axes>"
      ]
     },
     "metadata": {
      "needs_background": "light"
     },
     "output_type": "display_data"
    }
   ],
   "source": [
    "gp.GeoSeries([Spain, Madrid.buffer(3), Madrid]).plot(alpha=.7, cmap='jet')"
   ]
  },
  {
   "cell_type": "code",
   "execution_count": null,
   "metadata": {},
   "outputs": [],
   "source": [
    "gp.GeoSeries(Madrid.buffer(3), crs= cities.crs).to_crs(epsg=31370).plot()"
   ]
  },
  {
   "cell_type": "code",
   "execution_count": 129,
   "metadata": {},
   "outputs": [
    {
     "data": {
      "image/svg+xml": [
       "<svg xmlns=\"http://www.w3.org/2000/svg\" xmlns:xlink=\"http://www.w3.org/1999/xlink\" />"
      ],
      "text/plain": [
       "<shapely.geometry.collection.GeometryCollection at 0xe76ecdb630>"
      ]
     },
     "execution_count": 129,
     "metadata": {},
     "output_type": "execute_result"
    }
   ],
   "source": [
    "Madrid.buffer(1).intersection(Las_Palmas)"
   ]
  },
  {
   "cell_type": "code",
   "execution_count": 130,
   "metadata": {},
   "outputs": [
    {
     "data": {
      "image/svg+xml": [
       "<svg xmlns=\"http://www.w3.org/2000/svg\" xmlns:xlink=\"http://www.w3.org/1999/xlink\" width=\"100.0\" height=\"100.0\" viewBox=\"-15.948391320817356 27.618313314107144 13.789108344087747 14.355595480914648\" preserveAspectRatio=\"xMinYMin meet\"><g transform=\"matrix(1,0,0,-1,0,69.59222210912894)\"><g><path fill-rule=\"evenodd\" fill=\"#66cc99\" stroke=\"#555555\" stroke-width=\"0.28711190961829297\" opacity=\"0.6\" d=\"M -2.690971698244965,40.442220073506434 L -2.695786971572768,40.344202933176874 L -2.7101864178417348,40.247129751490306 L -2.734031362512756,40.15193539625197 L -2.767092165733678,40.05953664114134 L -2.80905043389661,39.97082333668044 L -2.8595020859424194,39.88664984048683 L -2.917961244882228,39.80782678934279 L -2.9838649170584173,39.73511329231989 L -3.056578414081319,39.6692096201437 L -3.135401465225362,39.61075046120389 L -3.2195749614189664,39.56029880915808 L -3.3082882658798742,39.51834054099515 L -3.4006870209905014,39.48527973777423 L -3.4958813762288354,39.4614347931032 L -3.592954557915403,39.447035346834234 L -3.6909716982449634,39.442220073506434 L -3.7889888385745243,39.447035346834234 L -3.886062020261092,39.4614347931032 L -3.9812563754994255,39.48527973777422 L -4.073655130610053,39.51834054099515 L -4.162368435070961,39.56029880915808 L -4.246541931264566,39.610750461203885 L -4.325364982408609,39.6692096201437 L -4.398078479431511,39.73511329231989 L -4.463982151607701,39.80782678934278 L -4.522441310547509,39.88664984048683 L -4.572892962593319,39.97082333668043 L -4.614851230756251,40.05953664114134 L -4.647912033977174,40.15193539625197 L -4.671756978648196,40.247129751490306 L -4.686156424917162,40.344202933176874 L -4.690971698244965,40.442220073506434 L -4.686156424917162,40.540237213835994 L -4.671756978648196,40.63731039552256 L -4.647912033977175,40.732504750760896 L -4.614851230756252,40.824903505871525 L -4.57289296259332,40.91361681033243 L -4.522441310547511,40.997790306526035 L -4.463982151607702,41.07661335767008 L -4.398078479431513,41.14932685469298 L -4.325364982408611,41.21523052686917 L -4.246541931264568,41.273689685808975 L -4.162368435070964,41.32414133785479 L -4.073655130610057,41.36609960601772 L -3.9812563754994295,41.39916040923864 L -3.886062020261096,41.423005353909666 L -3.7889888385745283,41.43740480017863 L -3.690971698244968,41.442220073506434 L -3.592954557915408,41.43740480017863 L -3.4958813762288403,41.423005353909666 L -3.4006870209905067,41.39916040923865 L -3.308288265879879,41.36609960601772 L -3.2195749614189717,41.32414133785479 L -3.135401465225367,41.27368968580898 L -3.056578414081324,41.21523052686917 L -2.9838649170584217,41.14932685469299 L -2.917961244882232,41.076613357670084 L -2.8595020859424234,40.99779030652604 L -2.8090504338966134,40.913616810332435 L -2.767092165733681,40.82490350587153 L -2.7340313625127584,40.7325047507609 L -2.710186417841736,40.63731039552257 L -2.695786971572769,40.540237213836 L -2.690971698244965,40.44222007350644 L -2.690971698244965,40.442220073506434 z\" /><circle cx=\"-15.416702599301999\" cy=\"28.150002035622503\" r=\"0.43066786442743943\" stroke=\"#555555\" stroke-width=\"0.14355595480914649\" fill=\"#66cc99\" opacity=\"0.6\" /></g></g></svg>"
      ],
      "text/plain": [
       "<shapely.geometry.collection.GeometryCollection at 0xe76ecd8cc0>"
      ]
     },
     "execution_count": 130,
     "metadata": {},
     "output_type": "execute_result"
    }
   ],
   "source": [
    "Madrid.buffer(1).union(Las_Palmas)"
   ]
  },
  {
   "cell_type": "code",
   "execution_count": 131,
   "metadata": {},
   "outputs": [
    {
     "data": {
      "image/svg+xml": [
       "<svg xmlns=\"http://www.w3.org/2000/svg\" xmlns:xlink=\"http://www.w3.org/1999/xlink\" width=\"100.0\" height=\"100.0\" viewBox=\"-4.770971698244965 39.362220073506435 2.16 2.1599999999999966\" preserveAspectRatio=\"xMinYMin meet\"><g transform=\"matrix(1,0,0,-1,0,80.88444014701287)\"><path fill-rule=\"evenodd\" fill=\"#66cc99\" stroke=\"#555555\" stroke-width=\"0.0432\" opacity=\"0.6\" d=\"M -2.690971698244965,40.442220073506434 L -2.695786971572768,40.344202933176874 L -2.7101864178417348,40.247129751490306 L -2.734031362512756,40.15193539625197 L -2.767092165733678,40.05953664114134 L -2.80905043389661,39.97082333668044 L -2.8595020859424194,39.88664984048683 L -2.917961244882228,39.80782678934279 L -2.9838649170584173,39.73511329231989 L -3.056578414081319,39.6692096201437 L -3.135401465225362,39.61075046120389 L -3.2195749614189664,39.56029880915808 L -3.3082882658798742,39.51834054099515 L -3.4006870209905014,39.48527973777423 L -3.4958813762288354,39.4614347931032 L -3.592954557915403,39.447035346834234 L -3.6909716982449634,39.442220073506434 L -3.7889888385745243,39.447035346834234 L -3.886062020261092,39.4614347931032 L -3.9812563754994255,39.48527973777422 L -4.073655130610053,39.51834054099515 L -4.162368435070961,39.56029880915808 L -4.246541931264566,39.610750461203885 L -4.325364982408609,39.6692096201437 L -4.398078479431511,39.73511329231989 L -4.463982151607701,39.80782678934278 L -4.522441310547509,39.88664984048683 L -4.572892962593319,39.97082333668043 L -4.614851230756251,40.05953664114134 L -4.647912033977174,40.15193539625197 L -4.671756978648196,40.247129751490306 L -4.686156424917162,40.344202933176874 L -4.690971698244965,40.442220073506434 L -4.686156424917162,40.540237213835994 L -4.671756978648196,40.63731039552256 L -4.647912033977175,40.732504750760896 L -4.614851230756252,40.824903505871525 L -4.57289296259332,40.91361681033243 L -4.522441310547511,40.997790306526035 L -4.463982151607702,41.07661335767008 L -4.398078479431513,41.14932685469298 L -4.325364982408611,41.21523052686917 L -4.246541931264568,41.273689685808975 L -4.162368435070964,41.32414133785479 L -4.073655130610057,41.36609960601772 L -3.9812563754994295,41.39916040923864 L -3.886062020261096,41.423005353909666 L -3.7889888385745283,41.43740480017863 L -3.690971698244968,41.442220073506434 L -3.592954557915408,41.43740480017863 L -3.4958813762288403,41.423005353909666 L -3.4006870209905067,41.39916040923865 L -3.308288265879879,41.36609960601772 L -3.2195749614189717,41.32414133785479 L -3.135401465225367,41.27368968580898 L -3.056578414081324,41.21523052686917 L -2.9838649170584217,41.14932685469299 L -2.917961244882232,41.076613357670084 L -2.8595020859424234,40.99779030652604 L -2.8090504338966134,40.913616810332435 L -2.767092165733681,40.82490350587153 L -2.7340313625127584,40.7325047507609 L -2.710186417841736,40.63731039552257 L -2.695786971572769,40.540237213836 L -2.690971698244965,40.44222007350644 L -2.690971698244965,40.442220073506434 z\" /></g></svg>"
      ],
      "text/plain": [
       "<shapely.geometry.polygon.Polygon at 0xe76ecc70b8>"
      ]
     },
     "execution_count": 131,
     "metadata": {},
     "output_type": "execute_result"
    }
   ],
   "source": [
    "Madrid.buffer(1).difference(Las_Palmas)"
   ]
  },
  {
   "cell_type": "code",
   "execution_count": 133,
   "metadata": {},
   "outputs": [],
   "source": [
    "african_countries = countries[countries['CONTINENT'] == 'Africa']"
   ]
  },
  {
   "cell_type": "code",
   "execution_count": 134,
   "metadata": {},
   "outputs": [],
   "source": [
    "Africa = african_countries.unary_union"
   ]
  },
  {
   "cell_type": "code",
   "execution_count": 135,
   "metadata": {},
   "outputs": [
    {
     "data": {
      "image/svg+xml": [
       "<svg xmlns=\"http://www.w3.org/2000/svg\" xmlns:xlink=\"http://www.w3.org/1999/xlink\" width=\"100.0\" height=\"100.0\" viewBox=\"-20.07193932949784 -37.70593278579932 74.06990576017344 77.94269362824147\" preserveAspectRatio=\"xMinYMin meet\"><g transform=\"matrix(1,0,0,-1,0,2.5308280566428323)\"><g><path fill-rule=\"evenodd\" fill=\"#66cc99\" stroke=\"#555555\" stroke-width=\"1.5588538725648293\" opacity=\"0.6\" d=\"M 49.54351891459575,-12.469832858940554 L 50.47653689962553,-15.226512139550543 L 49.49861209493412,-17.106035658438273 L 49.435618523970305,-17.953064060134366 L 48.54854088724801,-20.496888116134127 L 47.095761346226595,-24.941629733990453 L 45.40950768411045,-25.60143442149309 L 44.03972049334976,-24.988345228782308 L 43.254187046081,-22.057413018484123 L 44.37432539243966,-20.07236622485639 L 43.96308434426091,-17.409944756746782 L 44.4465173683514,-16.216219170804507 L 46.31224327981721,-15.780018405828798 L 47.70512983581236,-14.594302666891764 L 49.54351891459575,-12.469832858940554 z\" /><path fill-rule=\"evenodd\" fill=\"#66cc99\" stroke=\"#555555\" stroke-width=\"1.5588538725648293\" opacity=\"0.6\" d=\"M -7.7121593896697505,4.364565944837722 L -9.004793667018674,4.8324185245922 L -11.438779466182055,6.7859168563057475 L -12.949049038128194,7.798645738145738 L -13.246550258832515,8.903048610871508 L -15.130311245168173,11.040411688679526 L -16.677451951554573,12.384851589401052 L -16.841524624081273,13.15139394780256 L -16.71372880702347,13.594958604379855 L -17.18517289882223,14.919477240452862 L -16.463098110407884,16.13503611903846 L -16.14634741867485,18.108481553616656 L -16.277838100641517,20.0925206568147 L -17.06342322434257,20.999752102130827 L -17.020428432675743,21.42231028898155 L -15.982610642958008,23.723358466074018 L -15.089331834360706,24.520260728447 L -14.439939947964803,26.25441844329768 L -12.618836635783083,28.03818553314869 L -11.688919236690737,28.148643907172527 L -9.564811163765683,29.93357371674989 L -9.81471839032912,31.17773550060909 L -8.657476365584984,33.240245266242425 L -6.912544114601417,34.110476386037476 L -5.92999426921989,35.75998810479402 L -4.591006232105116,35.330711981745594 L -2.169913702798624,35.16839630791668 L 1.466918572606545,36.605647081034405 L 6.261819695672613,37.11065501560674 L 8.420964389691676,36.94642731378316 L 9.509993523810607,37.349994411766545 L 10.939518670300687,35.698984076473494 L 10.149592726287125,34.33077301689771 L 11.488787469131012,33.13699575452314 L 15.245630000000006,32.26508000000007 L 15.713939999999923,31.376259999999945 L 19.08641,30.26639 L 20.053349999999966,30.985760000000028 L 19.82033000000007,31.751790000000142 L 20.854520000000093,32.70679999999999 L 22.895760000000053,32.63857999999999 L 25.16482,31.56915 L 26.49533,31.58568 L 28.913529999999998,30.87005 L 30.976930000000003,31.55586 L 32.99392,31.024070000000002 L 34.26543474464621,31.21935730952032 L 34.823243288783814,29.76108076171822 L 34.42655,28.343989999999998 L 33.34876,27.69989 L 34.10455,26.14227 L 35.69241,23.92671 L 35.52598,23.10244 L 36.86622999999997,22.0 L 37.4817900000001,18.61409000000009 L 38.410089959473225,17.998307399970315 L 39.26611006038803,15.92272349696725 L 41.17927493669765,14.491079616753211 L 43.08122602720016,12.699638576707116 L 43.14530480324214,11.462039699748857 L 44.11780358254282,10.445538438351605 L 46.645401238803004,10.816549383991173 L 48.94820475850985,11.41061728169797 L 51.1112,12.024640000000002 L 51.04531,10.6409 L 49.45270000000001,6.80466 L 48.594550000000005,5.339110000000001 L 46.56476,2.85529 L 43.13597,0.2922 L 41.58513,-1.6832500000000001 L 40.26304000000001,-2.57309 L 39.20222,-4.67677 L 38.74053999999995,-5.9089499999999475 L 39.44,-6.839999999999861 L 39.18652000000009,-8.48550999999992 L 40.316586229110854,-10.317097752817492 L 40.775475294768995,-14.691764418194241 L 39.45255862809705,-16.72089120856694 L 37.41113284683888,-17.586368096591237 L 34.78638349787005,-19.784011732667736 L 34.70189253107284,-20.49704314543101 L 35.562545536369086,-22.090000000000003 L 35.45874555841962,-24.12260995859655 L 32.574632195777866,-25.727318210556092 L 32.830120477028885,-26.742191664336197 L 32.46213260267845,-28.301011244420557 L 31.325561150851,-29.401977634398914 L 30.05571618014278,-31.140269463832958 L 28.2197558936771,-32.771952813448856 L 25.780628289500697,-33.94464609144834 L 22.574157342222236,-33.86408253350531 L 19.61640506356457,-34.81916635512371 L 18.24449913907992,-33.86775156019803 L 18.22176150887148,-31.66163298922567 L 16.344976840895242,-28.5767050106977 L 15.21047244635946,-27.090955905874047 L 14.408144158595833,-23.853014011329847 L 14.257714064194175,-22.111208184499958 L 13.35249799973744,-20.872834161057504 L 11.734198846085093,-17.301889336824487 L 11.778537224991538,-15.793816013250762 L 12.738478631245385,-13.137905775609923 L 13.633721144269856,-12.038644707897177 L 13.68637942877524,-10.731075941615913 L 12.875369500386597,-9.166933689005475 L 13.23643273280993,-8.562629489784328 L 12.32243167486351,-6.10009246177966 L 12.182336866920252,-5.789930515163839 L 11.91496300624209,-5.037986748884791 L 11.093772820691925,-3.978826592630547 L 9.40524539555497,-2.144313246269043 L 8.79799563969317,-1.111301364754496 L 9.492888624721985,1.010119533691494 L 9.649158155972628,2.2838660750377358 L 9.795195753629457,3.073404445809117 L 8.500287713259695,4.7719829370268485 L 5.898172641634687,4.262453314628985 L 4.325607130560684,6.2706511499234665 L 2.6917016943562544,6.258817246928629 L 1.8652405127123188,6.142157701029731 L 1.0601216976049272,5.928837388528876 L -1.9647065901675944,4.710462144383371 L -2.856125047202397,4.994475816259509 L -5.8344962223445265,4.993700669775137 L -7.7121593896697505,4.364565944837722 z\" /></g></g></svg>"
      ],
      "text/plain": [
       "<shapely.geometry.multipolygon.MultiPolygon at 0xe76ed4e1d0>"
      ]
     },
     "execution_count": 135,
     "metadata": {},
     "output_type": "execute_result"
    }
   ],
   "source": [
    "Africa"
   ]
  },
  {
   "cell_type": "code",
   "execution_count": null,
   "metadata": {},
   "outputs": [],
   "source": []
  }
 ],
 "metadata": {
  "kernelspec": {
   "display_name": "Python 3",
   "language": "python",
   "name": "python3"
  },
  "language_info": {
   "codemirror_mode": {
    "name": "ipython",
    "version": 3
   },
   "file_extension": ".py",
   "mimetype": "text/x-python",
   "name": "python",
   "nbconvert_exporter": "python",
   "pygments_lexer": "ipython3",
   "version": "3.7.3"
  }
 },
 "nbformat": 4,
 "nbformat_minor": 2
}
